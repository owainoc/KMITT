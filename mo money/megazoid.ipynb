{
 "cells": [
  {
   "cell_type": "code",
   "execution_count": 1,
   "id": "5fe42e2a",
   "metadata": {},
   "outputs": [
    {
     "name": "stdout",
     "output_type": "stream",
     "text": [
      "{'Avoids Investment In': ['Real Estate'], 'Investment Start Date': '2016-02-09', 'Investment End Date': '2016-07-14', 'Investment Budget': '49434'}\n"
     ]
    }
   ],
   "source": [
    "import re\n",
    "from datetime import datetime\n",
    "import pandas as pd\n",
    "\n",
    "def interpret_investment_prompt(prompt, categories):\n",
    "    # Extracting the information using regular expressions\n",
    "    avoid_investment = re.search(r\"avoids (.+?)\\.\", prompt).group(1).split(\" and \")\n",
    "    start_date = re.search(r\"investment start date was (.+?)\\.\", prompt).group(1)\n",
    "    end_date_match = re.search(r\"investment end date was (.+?)\\.\", prompt)\n",
    "    end_date = end_date_match.group(1) if end_date_match else datetime.now().strftime('%Y-%m-%d')\n",
    "    budget = re.search(r\"investment budget is \\$(\\d+)\\.\", prompt).group(1)\n",
    "    \n",
    "    # Filter the avoid_investment categories\n",
    "    filtered_avoid_investment = [category for category in avoid_investment if category in categories]\n",
    "    \n",
    "    # Format dates to yyyy-mm-dd\n",
    "    start_date = datetime.strptime(start_date, '%B %dth, %Y').strftime('%Y-%m-%d')\n",
    "    if end_date_match:\n",
    "        end_date = datetime.strptime(end_date, '%B %dth, %Y').strftime('%Y-%m-%d')\n",
    "    \n",
    "    return {\n",
    "        \"Avoids Investment In\": filtered_avoid_investment,\n",
    "        \"Investment Start Date\": start_date,\n",
    "        \"Investment End Date\": end_date,\n",
    "        \"Investment Budget\": budget\n",
    "    }\n",
    "\n",
    "# Example prompt\n",
    "generated_context = \"Andrew Vega is 77 years old and his investment start date was February 9th, 2016. His investment end date was July 14th, 2016. He enjoys knitting and avoids Real Estate and Construction. Their total investment budget is $49434.\"\n",
    "prompt = \"What does this person not want to invest in? \" + generated_context\n",
    "categories = ['Unknown', 'Energy', 'Consumer Cyclical', 'Basic Materials', 'Real Estate', 'Industrials', 'Communication Services', 'Healthcare', 'Technology', 'Financial Services', 'Utilities', 'Consumer Defensive']\n",
    "\n",
    "# Interpreting the prompt\n",
    "investment_info = interpret_investment_prompt(prompt, categories)\n",
    "print(investment_info)"
   ]
  },
  {
   "cell_type": "code",
   "execution_count": null,
   "id": "8a8b9d8c",
   "metadata": {},
   "outputs": [],
   "source": [
    "\n",
    "# Load the CSV file into a pandas DataFrame\n",
    "tickers_df = pd.read_csv(r'C:\\Users\\Aneurin\\python\\Hackathon\\tickers_with_sectors.csv')\n",
    "\n",
    "# Filter the DataFrame to exclude rows with sectors in \"Avoids Investment In\" (case-insensitive)\n",
    "remaining_tickers = tickers_df[~tickers_df['Sector'].str.lower().isin([sector.lower() for sector in investment_info['Avoids Investment In']])]['Ticker']\n",
    "\n",
    "# Convert the filtered DataFrame column to a pandas Series\n",
    "remaining_tickers = remaining_tickers.reset_index(drop=True)\n",
    "\n",
    "# Save the pandas Series to a CSV file\n",
    "remaining_tickers.to_csv(r'C:\\Users\\Aneurin\\python\\remainingtickers.csv', index=False)"
   ]
  },
  {
   "cell_type": "code",
   "execution_count": null,
   "id": "4308d0e6",
   "metadata": {},
   "outputs": [],
   "source": []
  }
 ],
 "metadata": {
  "kernelspec": {
   "display_name": "Python 3",
   "language": "python",
   "name": "python3"
  },
  "language_info": {
   "codemirror_mode": {
    "name": "ipython",
    "version": 3
   },
   "file_extension": ".py",
   "mimetype": "text/x-python",
   "name": "python",
   "nbconvert_exporter": "python",
   "pygments_lexer": "ipython3",
   "version": "3.11.9"
  }
 },
 "nbformat": 4,
 "nbformat_minor": 5
}
